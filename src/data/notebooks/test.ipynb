{
 "cells": [
  {
   "cell_type": "code",
   "execution_count": 11,
   "metadata": {},
   "outputs": [],
   "source": [
    "import os\n",
    "import sys\n",
    "sys.path.append('../../../')\n",
    "import pickle\n",
    "import glob\n",
    "\n",
    "from huggingface_hub import HfFileSystem, HfApi\n",
    "from pyarrow import parquet as pq\n",
    "from src.data.tasks.divide_urls import divide_urls"
   ]
  },
  {
   "cell_type": "code",
   "execution_count": 2,
   "metadata": {},
   "outputs": [
    {
     "data": {
      "text/plain": [
       "233"
      ]
     },
     "execution_count": 2,
     "metadata": {},
     "output_type": "execute_result"
    }
   ],
   "source": [
    "fs = HfFileSystem()\n",
    "zip_files = fs.glob(\"datasets/nguyenminh4099/network-result-asd@main/*/*_00*.zip\")\n",
    "len(zip_files)"
   ]
  },
  {
   "cell_type": "code",
   "execution_count": 15,
   "metadata": {},
   "outputs": [],
   "source": [
    "zip_files.sort()\n",
    "d = dict()\n",
    "video_ids = []\n",
    "metadatas = []\n",
    "for zip_file in zip_files:\n",
    "    channel, video_id = zip_file.split('/')[-1].split('@')[0:2]\n",
    "    d.setdefault(channel,[])\n",
    "    d.get(channel,None).append(video_id)\n",
    "    video_ids.append(video_id)\n",
    "    metadatas.append({\n",
    "        'video_id': video_id,\n",
    "    })\n",
    "divide_urls(metadata=metadatas, volume=6, redivide=False, metadata_dir='../databases/metadata/')"
   ]
  },
  {
   "cell_type": "code",
   "execution_count": null,
   "metadata": {},
   "outputs": [],
   "source": [
    "src_temp = \"datasets/nguyenminh4099/network-result-asd@main/{channel}/{channel}@{video_id}@network_results.zip\"\n",
    "dst_temp = \"datasets/GSU24AI03-SU24AI21/network-result-asd@main/network_results/{channel}/network_results@{channel}@{video_id}.zip\"\n",
    "list_dirs = sorted(glob.glob(\"../databases/metadata/*.parquet\")) \n",
    "for meta_file in list_dirs[137:]:\n",
    "    table = pq.read_table(meta_file)\n",
    "    new_channel = table[-1][0]\n",
    "    for vi in table[0]:\n",
    "        old = fs.glob(src_temp.format(channel=\"*\",video_id=vi))[0]\n",
    "        new = dst_temp.format(channel=new_channel,video_id=vi)\n",
    "        if fs.isfile(old) and not fs.isfile(new):\n",
    "            print(\"coping \",old,new)\n",
    "            fs.copy(path1=old,path2=new,recursive=True)"
   ]
  },
  {
   "cell_type": "code",
   "execution_count": 12,
   "metadata": {},
   "outputs": [],
   "source": [
    "hfapi = HfApi()"
   ]
  },
  {
   "cell_type": "code",
   "execution_count": 16,
   "metadata": {},
   "outputs": [
    {
     "name": "stderr",
     "output_type": "stream",
     "text": [
      "batch_00101.parquet:   0%|          | 0.00/2.34k [00:00<?, ?B/s]\n",
      "\u001b[A\n",
      "\n",
      "\u001b[A\u001b[A\n",
      "\n",
      "\n",
      "\u001b[A\u001b[A\u001b[A\n",
      "\n",
      "\n",
      "\n",
      "batch_00104.parquet: 100%|██████████| 2.35k/2.35k [00:00<00:00, 7.38kB/s]\n",
      "batch_00105.parquet: 100%|██████████| 2.35k/2.35k [00:00<00:00, 7.16kB/s]\n",
      "batch_00102.parquet: 100%|██████████| 2.35k/2.35k [00:00<00:00, 6.40kB/s]\n",
      "batch_00103.parquet: 100%|██████████| 2.34k/2.34k [00:00<00:00, 6.15kB/s]\n",
      "batch_00101.parquet: 100%|██████████| 2.34k/2.34k [00:00<00:00, 5.78kB/s]\n",
      "batch_00106.parquet: 100%|██████████| 2.34k/2.34k [00:00<00:00, 7.11kB/s]\n",
      "\n",
      "\n",
      "\n",
      "\n",
      "batch_00107.parquet:   0%|          | 0.00/2.34k [00:00<?, ?B/s]\n",
      "\u001b[A\n",
      "\n",
      "batch_00107.parquet: 100%|██████████| 2.34k/2.34k [00:00<00:00, 7.80kB/s]\n",
      "batch_00108.parquet: 100%|██████████| 2.35k/2.35k [00:00<00:00, 7.52kB/s]\n",
      "batch_00109.parquet: 100%|██████████| 2.35k/2.35k [00:00<00:00, 8.11kB/s]\n",
      "batch_00110.parquet: 100%|██████████| 2.34k/2.34k [00:00<00:00, 6.98kB/s]\n",
      "batch_00111.parquet:   0%|          | 0.00/2.34k [00:00<?, ?B/s]\n",
      "\n",
      "\n",
      "\n",
      "\u001b[A\u001b[A\u001b[A\u001b[A\n",
      "batch_00111.parquet: 100%|██████████| 2.34k/2.34k [00:00<00:00, 6.95kB/s]\n",
      "batch_00113.parquet: 100%|██████████| 2.34k/2.34k [00:00<00:00, 7.24kB/s]\n",
      "batch_00112.parquet: 100%|██████████| 2.34k/2.34k [00:00<00:00, 7.03kB/s]\n",
      "\n",
      "\n",
      "\n",
      "\n",
      "batch_00114.parquet:   0%|          | 0.00/2.34k [00:00<?, ?B/s]\n",
      "batch_00114.parquet: 100%|██████████| 2.34k/2.34k [00:00<00:00, 8.16kB/s]\n",
      "batch_00115.parquet: 100%|██████████| 2.35k/2.35k [00:00<00:00, 7.42kB/s]\n",
      "batch_00116.parquet: 100%|██████████| 2.35k/2.35k [00:00<00:00, 7.84kB/s]\n",
      "\n",
      "\n",
      "\n",
      "\n",
      "batch_00117.parquet:   0%|          | 0.00/2.34k [00:00<?, ?B/s]\n",
      "\u001b[A\n",
      "\n",
      "\n",
      "\n",
      "\u001b[A\u001b[A\u001b[A\u001b[A\n",
      "\n",
      "batch_00117.parquet: 100%|██████████| 2.34k/2.34k [00:00<00:00, 7.62kB/s]\n",
      "batch_00118.parquet: 100%|██████████| 2.34k/2.34k [00:00<00:00, 7.96kB/s]\n",
      "batch_00119.parquet: 100%|██████████| 2.34k/2.34k [00:00<00:00, 7.20kB/s]\n",
      "batch_00120.parquet: 100%|██████████| 2.35k/2.35k [00:00<00:00, 7.27kB/s]\n",
      "batch_00121.parquet:   0%|          | 0.00/2.35k [00:00<?, ?B/s]\n",
      "\n",
      "\n",
      "\n",
      "\u001b[A\u001b[A\u001b[A\u001b[A\n",
      "\u001b[A\n",
      "\n",
      "batch_00121.parquet: 100%|██████████| 2.35k/2.35k [00:00<00:00, 7.81kB/s]\n",
      "batch_00122.parquet: 100%|██████████| 2.34k/2.34k [00:00<00:00, 8.00kB/s]\n",
      "batch_00123.parquet: 100%|██████████| 2.35k/2.35k [00:00<00:00, 8.05kB/s]\n",
      "batch_00124.parquet: 100%|██████████| 2.35k/2.35k [00:00<00:00, 6.92kB/s]\n",
      "batch_00125.parquet:   0%|          | 0.00/2.34k [00:00<?, ?B/s]\n",
      "\n",
      "\n",
      "\n",
      "\u001b[A\u001b[A\u001b[A\u001b[A\n",
      "\u001b[A\n",
      "\n",
      "batch_00126.parquet: 100%|██████████| 2.34k/2.34k [00:00<00:00, 8.27kB/s]\n",
      "batch_00125.parquet: 100%|██████████| 2.34k/2.34k [00:00<00:00, 6.43kB/s]\n",
      "batch_00127.parquet: 100%|██████████| 2.34k/2.34k [00:00<00:00, 7.73kB/s]\n",
      "\n",
      "\n",
      "\n",
      "\n",
      "batch_00128.parquet: 100%|██████████| 2.35k/2.35k [00:00<00:00, 7.96kB/s]\n",
      "batch_00129.parquet: 100%|██████████| 2.35k/2.35k [00:00<00:00, 8.16kB/s]\n",
      "batch_00131.parquet:   0%|          | 0.00/2.34k [00:00<?, ?B/s]\n",
      "batch_00130.parquet: 100%|██████████| 2.35k/2.35k [00:00<00:00, 7.75kB/s]\n",
      "batch_00131.parquet: 100%|██████████| 2.34k/2.34k [00:00<00:00, 7.79kB/s]\n",
      "batch_00132.parquet: 100%|██████████| 2.35k/2.35k [00:00<00:00, 7.46kB/s]\n",
      "\n",
      "\n",
      "\n",
      "\n",
      "batch_00134.parquet:   0%|          | 0.00/2.35k [00:00<?, ?B/s]\n",
      "batch_00133.parquet: 100%|██████████| 2.34k/2.34k [00:00<00:00, 7.24kB/s]\n",
      "\n",
      "\n",
      "\n",
      "\n",
      "batch_00134.parquet: 100%|██████████| 2.35k/2.35k [00:00<00:00, 7.91kB/s]\n",
      "batch_00135.parquet: 100%|██████████| 2.35k/2.35k [00:00<00:00, 7.08kB/s]\n",
      "\n",
      "\n",
      "\n",
      "\n",
      "batch_00136.parquet: 100%|██████████| 2.35k/2.35k [00:00<00:00, 7.30kB/s]\n",
      "\n",
      "\n",
      "\n",
      "\n",
      "Upload 36 LFS files: 100%|██████████| 36/36 [00:06<00:00,  5.67it/s]\n"
     ]
    },
    {
     "data": {
      "text/plain": [
       "CommitInfo(commit_url='https://huggingface.co/datasets/GSU24AI03-SU24AI21/tracked-url-video/commit/7ce19669afeed055465e44a0f1e41f49dafe7083', commit_message='Upload folder using huggingface_hub', commit_description='', oid='7ce19669afeed055465e44a0f1e41f49dafe7083', pr_url=None, pr_revision=None, pr_num=None)"
      ]
     },
     "execution_count": 16,
     "metadata": {},
     "output_type": "execute_result"
    }
   ],
   "source": [
    "hfapi.upload_folder(\n",
    "    repo_id=\"GSU24AI03-SU24AI21/tracked-url-video\",\n",
    "    repo_type='dataset',\n",
    "    revision=\"main\",\n",
    "    path_in_repo='metadata',\n",
    "    folder_path='../databases/metadata/',\n",
    "    create_pr=False,\n",
    "    ignore_patterns=['.DS_Store'],\n",
    "    allow_patterns=['*.parquet']\n",
    ")"
   ]
  },
  {
   "cell_type": "code",
   "execution_count": null,
   "metadata": {},
   "outputs": [],
   "source": []
  }
 ],
 "metadata": {
  "kernelspec": {
   "display_name": "AIP",
   "language": "python",
   "name": "python3"
  },
  "language_info": {
   "codemirror_mode": {
    "name": "ipython",
    "version": 3
   },
   "file_extension": ".py",
   "mimetype": "text/x-python",
   "name": "python",
   "nbconvert_exporter": "python",
   "pygments_lexer": "ipython3",
   "version": "3.10.14"
  }
 },
 "nbformat": 4,
 "nbformat_minor": 2
}
