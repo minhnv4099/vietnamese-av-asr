{
 "cells": [
  {
   "cell_type": "code",
   "execution_count": 1,
   "metadata": {},
   "outputs": [],
   "source": [
    "track = \"GSU24AI03-SU24AI21/tracked-url-video\"\n",
    "download = \"GSU24AI03-SU24AI21/downloaded-vietnamese-video\"\n",
    "speaker = \"GSU24AI03-SU24AI21/detected-speaker-clip\"\n",
    "crop = \"GSU24AI03-SU24AI21/cropped-mouth-clip\"\n",
    "vndetect = \"GSU24AI03-SU24AI21/detected-vietnamese-clip\"\n",
    "trans = \"GSU24AI03-SU24AI21/transcribed-vietnamese-audio\"\n",
    "vnav = \"GSU24AI03-SU24AI21/vietnamese-av\""
   ]
  },
  {
   "cell_type": "code",
   "execution_count": 6,
   "metadata": {},
   "outputs": [],
   "source": [
    "import datasets\n",
    "dataset = datasets.load_dataset(\n",
    "    vnav,\n",
    "    name=\"all\",\n",
    "    trust_remote_code=True,\n",
    "    cache_dir=\"../../../data/external/vietnamese-av\",\n",
    ")"
   ]
  }
 ],
 "metadata": {
  "kernelspec": {
   "display_name": "AIP",
   "language": "python",
   "name": "python3"
  },
  "language_info": {
   "codemirror_mode": {
    "name": "ipython",
    "version": 3
   },
   "file_extension": ".py",
   "mimetype": "text/x-python",
   "name": "python",
   "nbconvert_exporter": "python",
   "pygments_lexer": "ipython3",
   "version": "3.10.14"
  }
 },
 "nbformat": 4,
 "nbformat_minor": 2
}
