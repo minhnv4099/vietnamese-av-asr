{
 "cells": [
  {
   "cell_type": "code",
   "execution_count": 10,
   "metadata": {},
   "outputs": [],
   "source": [
    "track = \"GSU24AI03-SU24AI21/tracked-url-video\"\n",
    "download = \"GSU24AI03-SU24AI21/downloaded-vietnamese-video\"\n",
    "speaker = \"GSU24AI03-SU24AI21/detected-speaker-clip\"\n",
    "crop = \"GSU24AI03-SU24AI21/cropped-mouth-clip\"\n",
    "vndetect = \"GSU24AI03-SU24AI21/detected-vietnamese-clip\"\n",
    "trans = \"GSU24AI03-SU24AI21/transcribed-vietnamese-audio\"\n",
    "vnav = \"GSU24AI03-SU24AI21/vietnamese-av\"\n",
    "cache_dir = \"/Users/minhnguyen/home/vietnamese-av-asr/data/external/vnav/\""
   ]
  },
  {
   "cell_type": "code",
   "execution_count": 15,
   "metadata": {},
   "outputs": [
    {
     "data": {
      "text/plain": [
       "False"
      ]
     },
     "execution_count": 15,
     "metadata": {},
     "output_type": "execute_result"
    }
   ],
   "source": [
    "import datasets\n",
    "import os\n",
    "os.getcwd()\n",
    "from collections import Counter\n",
    "import matplotlib.pyplot as plt\n",
    "from matplotlib.ticker import PercentFormatter\n",
    "import numpy as np\n",
    "\"88888\" not in \"batch_88888.parquet\""
   ]
  },
  {
   "cell_type": "code",
   "execution_count": 16,
   "metadata": {},
   "outputs": [
    {
     "name": "stderr",
     "output_type": "stream",
     "text": [
      "Downloading builder script: 100%|██████████| 6.34k/6.34k [00:00<00:00, 18.2MB/s]\n",
      "Downloading data: 100%|██████████| 114/114 [00:00<00:00, 94124.14files/s]\n",
      "Downloading data: 100%|██████████| 114/114 [00:00<00:00, 349525.33files/s]\n",
      "Generating train split: 2212 examples [00:00, 33175.88 examples/s]\n",
      "Downloading data: 100%|██████████| 114/114 [00:00<00:00, 145733.21files/s]\n",
      "Downloading data: 100%|██████████| 114/114 [00:00<00:00, 89290.51files/s]\n",
      "Generating train split: 1769 examples [00:01, 1140.68 examples/s]\n",
      "Generating validation split: 221 examples [00:00, 1708.86 examples/s]\n",
      "Generating test split: 222 examples [00:00, 1791.03 examples/s]\n"
     ]
    }
   ],
   "source": [
    "dataset = datasets.load_dataset(vnav,cache_dir=cache_dir,trust_remote_code=True,name='all')"
   ]
  },
  {
   "cell_type": "code",
   "execution_count": null,
   "metadata": {},
   "outputs": [],
   "source": [
    "vocabs_ = Counter()\n",
    "len_ = Counter()\n",
    "transcripts = []\n",
    "transcript_splits =[]\n",
    "for _split in dataset:\n",
    "    transcripts.extend(dataset[_split]['transcript'])\n",
    "for transcript in transcripts:\n",
    "    transcript_splits.append(transcript.split(' '))\n",
    "    len_.update([len(transcript_splits[-1])])\n",
    "    vocabs_.update(transcript_splits[-1])\n",
    "total_words = sum(vocabs_.values())\n",
    "total_words"
   ]
  },
  {
   "cell_type": "code",
   "execution_count": null,
   "metadata": {},
   "outputs": [],
   "source": [
    "for k in sorted(len_):\n",
    "    print(f\"{k}: {len_[k]}\")"
   ]
  },
  {
   "cell_type": "code",
   "execution_count": 18,
   "metadata": {},
   "outputs": [
    {
     "data": {
      "text/plain": [
       "(22535, 440)"
      ]
     },
     "execution_count": 18,
     "metadata": {},
     "output_type": "execute_result"
    }
   ],
   "source": [
    "common_vocabs_ = []\n",
    "total_common_words = 0\n",
    "for vocab in sorted(vocabs_,key=lambda k: vocabs_[k],reverse=True):\n",
    "    if total_common_words <= 0.8 * total_words:\n",
    "        common_vocabs_.append(vocab)\n",
    "        total_common_words += vocabs_[vocab]\n",
    "total_common_words,len(common_vocabs_)"
   ]
  },
  {
   "cell_type": "code",
   "execution_count": 156,
   "metadata": {},
   "outputs": [
    {
     "data": {
      "text/plain": [
       "Text(0, 0.5, 'Count(%)')"
      ]
     },
     "execution_count": 156,
     "metadata": {},
     "output_type": "execute_result"
    },
    {
     "data": {
      "image/png": "[encoded data removed]",
      "text/plain": [
       "<Figure size 640x480 with 1 Axes>"
      ]
     },
     "metadata": {},
     "output_type": "display_data"
    }
   ],
   "source": [
    "lengths = list(len_.keys())\n",
    "counts = np.array(list(len_.values()))\n",
    "plt.bar(lengths,height=counts/np.sum(counts),align='center')\n",
    "plt.gca().yaxis.set_major_formatter(PercentFormatter(1))\n",
    "plt.xlabel(\"Transcript length\")\n",
    "plt.ylabel(\"Count(%)\")"
   ]
  },
  {
   "cell_type": "code",
   "execution_count": 151,
   "metadata": {},
   "outputs": [
    {
     "data": {
      "text/plain": [
       "1695"
      ]
     },
     "execution_count": 151,
     "metadata": {},
     "output_type": "execute_result"
    }
   ],
   "source": [
    "\n",
    "n_common_text = 0\n",
    "for transcript_split in transcript_splits:\n",
    "    n_common_word = 0\n",
    "    for _word in transcript_split:\n",
    "        if _word in common_vocabs_:\n",
    "            n_common_word += 1\n",
    "    if n_common_word / len(transcript_split) >= 0.7:\n",
    "        n_common_text += 1\n",
    "n_common_text"
   ]
  }
 ],
 "metadata": {
  "kernelspec": {
   "display_name": "AIP",
   "language": "python",
   "name": "python3"
  },
  "language_info": {
   "codemirror_mode": {
    "name": "ipython",
    "version": 3
   },
   "file_extension": ".py",
   "mimetype": "text/x-python",
   "name": "python",
   "nbconvert_exporter": "python",
   "pygments_lexer": "ipython3",
   "version": "3.10.14"
  }
 },
 "nbformat": 4,
 "nbformat_minor": 2
}
